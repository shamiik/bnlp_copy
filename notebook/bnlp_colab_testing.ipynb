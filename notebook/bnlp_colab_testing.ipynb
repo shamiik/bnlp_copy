{
  "nbformat": 4,
  "nbformat_minor": 0,
  "metadata": {
    "colab": {
      "name": "bnlp_colab.ipynb",
      "provenance": [],
      "include_colab_link": true
    },
    "kernelspec": {
      "name": "python3",
      "display_name": "Python 3"
    },
    "accelerator": "GPU",
    "gpuClass": "standard"
  },
  "cells": [
    {
      "cell_type": "markdown",
      "metadata": {
        "id": "view-in-github",
        "colab_type": "text"
      },
      "source": [
        "<a href=\"https://colab.research.google.com/github/shamiik/bnlp_copy/blob/main/notebook/bnlp_colab_testing.ipynb\" target=\"_parent\"><img src=\"https://colab.research.google.com/assets/colab-badge.svg\" alt=\"Open In Colab\"/></a>"
      ]
    },
    {
      "cell_type": "markdown",
      "metadata": {
        "id": "xqHRllMHSiDH"
      },
      "source": [
        "# BNLP\n",
        "BNLP is a natural language processing toolkit for Bengali Language. This tool will help you to tokenize Bengali text, Embedding Bengali words, Bengali POS Tagging, Construct Neural Model for Bengali NLP purposes.\n",
        "\n",
        "Here we provide a to z api level use of **BNLP**"
      ]
    },
    {
      "cell_type": "markdown",
      "metadata": {
        "id": "SXurTR8rSzdT"
      },
      "source": [
        "## Installation"
      ]
    },
    {
      "cell_type": "code",
      "metadata": {
        "id": "EqRr2C1sSag_",
        "outputId": "3a6c50ce-fd12-4d56-b0f9-1fe643049206",
        "colab": {
          "base_uri": "https://localhost:8080/"
        }
      },
      "source": [
        "!pip install -U bnlp_toolkit"
      ],
      "execution_count": 1,
      "outputs": [
        {
          "output_type": "stream",
          "name": "stdout",
          "text": [
            "Looking in indexes: https://pypi.org/simple, https://us-python.pkg.dev/colab-wheels/public/simple/\n",
            "Collecting bnlp_toolkit\n",
            "  Downloading bnlp_toolkit-3.2.0-py3-none-any.whl (19 kB)\n",
            "Collecting sentencepiece\n",
            "  Downloading sentencepiece-0.1.97-cp38-cp38-manylinux_2_17_x86_64.manylinux2014_x86_64.whl (1.3 MB)\n",
            "\u001b[2K     \u001b[90m━━━━━━━━━━━━━━━━━━━━━━━━━━━━━━━━━━━━━━━━\u001b[0m \u001b[32m1.3/1.3 MB\u001b[0m \u001b[31m58.4 MB/s\u001b[0m eta \u001b[36m0:00:00\u001b[0m\n",
            "\u001b[?25hRequirement already satisfied: wasabi in /usr/local/lib/python3.8/dist-packages (from bnlp_toolkit) (0.10.1)\n",
            "Requirement already satisfied: scipy in /usr/local/lib/python3.8/dist-packages (from bnlp_toolkit) (1.7.3)\n",
            "Collecting sklearn-crfsuite\n",
            "  Downloading sklearn_crfsuite-0.3.6-py2.py3-none-any.whl (12 kB)\n",
            "Requirement already satisfied: tqdm in /usr/local/lib/python3.8/dist-packages (from bnlp_toolkit) (4.64.1)\n",
            "Requirement already satisfied: numpy in /usr/local/lib/python3.8/dist-packages (from bnlp_toolkit) (1.21.6)\n",
            "Collecting gensim==4.0.1\n",
            "  Downloading gensim-4.0.1-cp38-cp38-manylinux1_x86_64.whl (23.9 MB)\n",
            "\u001b[2K     \u001b[90m━━━━━━━━━━━━━━━━━━━━━━━━━━━━━━━━━━━━━━━━\u001b[0m \u001b[32m23.9/23.9 MB\u001b[0m \u001b[31m69.6 MB/s\u001b[0m eta \u001b[36m0:00:00\u001b[0m\n",
            "\u001b[?25hRequirement already satisfied: nltk in /usr/local/lib/python3.8/dist-packages (from bnlp_toolkit) (3.7)\n",
            "Requirement already satisfied: smart-open>=1.8.1 in /usr/local/lib/python3.8/dist-packages (from gensim==4.0.1->bnlp_toolkit) (6.3.0)\n",
            "Requirement already satisfied: joblib in /usr/local/lib/python3.8/dist-packages (from nltk->bnlp_toolkit) (1.2.0)\n",
            "Requirement already satisfied: click in /usr/local/lib/python3.8/dist-packages (from nltk->bnlp_toolkit) (7.1.2)\n",
            "Requirement already satisfied: regex>=2021.8.3 in /usr/local/lib/python3.8/dist-packages (from nltk->bnlp_toolkit) (2022.6.2)\n",
            "Collecting python-crfsuite>=0.8.3\n",
            "  Downloading python_crfsuite-0.9.9-cp38-cp38-manylinux_2_17_x86_64.manylinux2014_x86_64.whl (1.0 MB)\n",
            "\u001b[2K     \u001b[90m━━━━━━━━━━━━━━━━━━━━━━━━━━━━━━━━━━━━━━━━\u001b[0m \u001b[32m1.0/1.0 MB\u001b[0m \u001b[31m80.0 MB/s\u001b[0m eta \u001b[36m0:00:00\u001b[0m\n",
            "\u001b[?25hRequirement already satisfied: six in /usr/local/lib/python3.8/dist-packages (from sklearn-crfsuite->bnlp_toolkit) (1.15.0)\n",
            "Requirement already satisfied: tabulate in /usr/local/lib/python3.8/dist-packages (from sklearn-crfsuite->bnlp_toolkit) (0.8.10)\n",
            "Installing collected packages: sentencepiece, python-crfsuite, sklearn-crfsuite, gensim, bnlp_toolkit\n",
            "  Attempting uninstall: gensim\n",
            "    Found existing installation: gensim 3.6.0\n",
            "    Uninstalling gensim-3.6.0:\n",
            "      Successfully uninstalled gensim-3.6.0\n",
            "Successfully installed bnlp_toolkit-3.2.0 gensim-4.0.1 python-crfsuite-0.9.9 sentencepiece-0.1.97 sklearn-crfsuite-0.3.6\n"
          ]
        }
      ]
    },
    {
      "cell_type": "markdown",
      "metadata": {
        "id": "aYS0EYaLS-OC"
      },
      "source": [
        "## Downloading Pretrained model\n",
        "\n",
        "NB: POS TAG and NER model may need to download from https://github.com/sagorbrur/bnlp/blob/master/model/bn_pos_model.pkl and then upload it to colab. \n",
        "\n",
        "Otherwise it will arise an error. "
      ]
    },
    {
      "cell_type": "code",
      "metadata": {
        "id": "4VHCHzC7TgQZ",
        "outputId": "ec36e6a9-414f-4b97-b458-38129dc2eb7b",
        "colab": {
          "base_uri": "https://localhost:8080/"
        }
      },
      "source": [
        "!mkdir models\n",
        "%cd models"
      ],
      "execution_count": 2,
      "outputs": [
        {
          "output_type": "stream",
          "name": "stdout",
          "text": [
            "/content/models\n"
          ]
        }
      ]
    },
    {
      "cell_type": "code",
      "metadata": {
        "id": "3d0TozrSTm0x",
        "outputId": "41cad4c5-f0f9-4447-8686-ff4a1bab7629",
        "colab": {
          "base_uri": "https://localhost:8080/"
        }
      },
      "source": [
        "!wget https://github.com/sagorbrur/bnlp/raw/master/model/bn_spm.model\n",
        "!wget https://github.com/sagorbrur/bnlp/raw/master/model/bn_spm.vocab\n",
        "!wget https://github.com/sagorbrur/bnlp/raw/master/model/bn_pos.pkl\n",
        "!wget https://github.com/sagorbrur/bnlp/raw/master/model/bn_ner.pkl"
      ],
      "execution_count": 3,
      "outputs": [
        {
          "output_type": "stream",
          "name": "stdout",
          "text": [
            "--2023-02-04 23:18:45--  https://github.com/sagorbrur/bnlp/raw/master/model/bn_spm.model\n",
            "Resolving github.com (github.com)... 140.82.114.3\n",
            "Connecting to github.com (github.com)|140.82.114.3|:443... connected.\n",
            "HTTP request sent, awaiting response... 302 Found\n",
            "Location: https://raw.githubusercontent.com/sagorbrur/bnlp/master/model/bn_spm.model [following]\n",
            "--2023-02-04 23:18:47--  https://raw.githubusercontent.com/sagorbrur/bnlp/master/model/bn_spm.model\n",
            "Resolving raw.githubusercontent.com (raw.githubusercontent.com)... 185.199.108.133, 185.199.110.133, 185.199.111.133, ...\n",
            "Connecting to raw.githubusercontent.com (raw.githubusercontent.com)|185.199.108.133|:443... connected.\n",
            "HTTP request sent, awaiting response... 200 OK\n",
            "Length: 1703793 (1.6M) [application/octet-stream]\n",
            "Saving to: ‘bn_spm.model’\n",
            "\n",
            "bn_spm.model        100%[===================>]   1.62M  --.-KB/s    in 0.01s   \n",
            "\n",
            "2023-02-04 23:18:47 (117 MB/s) - ‘bn_spm.model’ saved [1703793/1703793]\n",
            "\n",
            "--2023-02-04 23:18:47--  https://github.com/sagorbrur/bnlp/raw/master/model/bn_spm.vocab\n",
            "Resolving github.com (github.com)... 140.82.114.3\n",
            "Connecting to github.com (github.com)|140.82.114.3|:443... connected.\n",
            "HTTP request sent, awaiting response... 302 Found\n",
            "Location: https://raw.githubusercontent.com/sagorbrur/bnlp/master/model/bn_spm.vocab [following]\n",
            "--2023-02-04 23:18:48--  https://raw.githubusercontent.com/sagorbrur/bnlp/master/model/bn_spm.vocab\n",
            "Resolving raw.githubusercontent.com (raw.githubusercontent.com)... 185.199.108.133, 185.199.109.133, 185.199.110.133, ...\n",
            "Connecting to raw.githubusercontent.com (raw.githubusercontent.com)|185.199.108.133|:443... connected.\n",
            "HTTP request sent, awaiting response... 200 OK\n",
            "Length: 1510665 (1.4M) [text/plain]\n",
            "Saving to: ‘bn_spm.vocab’\n",
            "\n",
            "bn_spm.vocab        100%[===================>]   1.44M  --.-KB/s    in 0.007s  \n",
            "\n",
            "2023-02-04 23:18:48 (197 MB/s) - ‘bn_spm.vocab’ saved [1510665/1510665]\n",
            "\n",
            "--2023-02-04 23:18:48--  https://github.com/sagorbrur/bnlp/raw/master/model/bn_pos.pkl\n",
            "Resolving github.com (github.com)... 140.82.114.3\n",
            "Connecting to github.com (github.com)|140.82.114.3|:443... connected.\n",
            "HTTP request sent, awaiting response... 302 Found\n",
            "Location: https://raw.githubusercontent.com/sagorbrur/bnlp/master/model/bn_pos.pkl [following]\n",
            "--2023-02-04 23:18:50--  https://raw.githubusercontent.com/sagorbrur/bnlp/master/model/bn_pos.pkl\n",
            "Resolving raw.githubusercontent.com (raw.githubusercontent.com)... 185.199.108.133, 185.199.110.133, 185.199.109.133, ...\n",
            "Connecting to raw.githubusercontent.com (raw.githubusercontent.com)|185.199.108.133|:443... connected.\n",
            "HTTP request sent, awaiting response... 200 OK\n",
            "Length: 3897386 (3.7M) [application/octet-stream]\n",
            "Saving to: ‘bn_pos.pkl’\n",
            "\n",
            "bn_pos.pkl          100%[===================>]   3.72M  --.-KB/s    in 0.03s   \n",
            "\n",
            "2023-02-04 23:18:52 (124 MB/s) - ‘bn_pos.pkl’ saved [3897386/3897386]\n",
            "\n",
            "--2023-02-04 23:18:52--  https://github.com/sagorbrur/bnlp/raw/master/model/bn_ner.pkl\n",
            "Resolving github.com (github.com)... 140.82.114.3\n",
            "Connecting to github.com (github.com)|140.82.114.3|:443... connected.\n",
            "HTTP request sent, awaiting response... 302 Found\n",
            "Location: https://raw.githubusercontent.com/sagorbrur/bnlp/master/model/bn_ner.pkl [following]\n",
            "--2023-02-04 23:18:53--  https://raw.githubusercontent.com/sagorbrur/bnlp/master/model/bn_ner.pkl\n",
            "Resolving raw.githubusercontent.com (raw.githubusercontent.com)... 185.199.108.133, 185.199.110.133, 185.199.109.133, ...\n",
            "Connecting to raw.githubusercontent.com (raw.githubusercontent.com)|185.199.108.133|:443... connected.\n",
            "HTTP request sent, awaiting response... 200 OK\n",
            "Length: 26024594 (25M) [application/octet-stream]\n",
            "Saving to: ‘bn_ner.pkl’\n",
            "\n",
            "bn_ner.pkl          100%[===================>]  24.82M  --.-KB/s    in 0.06s   \n",
            "\n",
            "2023-02-04 23:18:55 (412 MB/s) - ‘bn_ner.pkl’ saved [26024594/26024594]\n",
            "\n"
          ]
        }
      ]
    },
    {
      "cell_type": "code",
      "metadata": {
        "id": "WV6m0AF7S5IC",
        "outputId": "d01b0e69-33df-41f6-f51c-f2341fdeee60",
        "colab": {
          "base_uri": "https://localhost:8080/"
        }
      },
      "source": [
        "!wget https://huggingface.co/sagorsarker/bangla_word2vec/resolve/main/bangla_word2vec_gen4.zip\n",
        "!unzip bangla_word2vec_gen4.zip\n",
        "!rm -rf bangla_word2vec_gen4.zip"
      ],
      "execution_count": 4,
      "outputs": [
        {
          "output_type": "stream",
          "name": "stdout",
          "text": [
            "--2023-02-04 23:18:55--  https://huggingface.co/sagorsarker/bangla_word2vec/resolve/main/bangla_word2vec_gen4.zip\n",
            "Resolving huggingface.co (huggingface.co)... 3.231.67.228, 54.235.118.239, 2600:1f18:147f:e800:671:b733:ecf3:a585, ...\n",
            "Connecting to huggingface.co (huggingface.co)|3.231.67.228|:443... connected.\n",
            "HTTP request sent, awaiting response... 302 Found\n",
            "Location: https://cdn-lfs.huggingface.co/repos/f5/12/f51294acf565f8e7f2b231a61a327e6a79fce680615e3bbbc4850f166e928650/b157fe019ddda848f0195240f636ff2dcb63cbe823c84eed77c129e196105fd1?response-content-disposition=attachment%3B+filename*%3DUTF-8%27%27bangla_word2vec_gen4.zip%3B+filename%3D%22bangla_word2vec_gen4.zip%22%3B&Expires=1675811936&Policy=eyJTdGF0ZW1lbnQiOlt7IlJlc291cmNlIjoiaHR0cHM6Ly9jZG4tbGZzLmh1Z2dpbmdmYWNlLmNvL3JlcG9zL2Y1LzEyL2Y1MTI5NGFjZjU2NWY4ZTdmMmIyMzFhNjFhMzI3ZTZhNzlmY2U2ODA2MTVlM2JiYmM0ODUwZjE2NmU5Mjg2NTAvYjE1N2ZlMDE5ZGRkYTg0OGYwMTk1MjQwZjYzNmZmMmRjYjYzY2JlODIzYzg0ZWVkNzdjMTI5ZTE5NjEwNWZkMT9yZXNwb25zZS1jb250ZW50LWRpc3Bvc2l0aW9uPSoiLCJDb25kaXRpb24iOnsiRGF0ZUxlc3NUaGFuIjp7IkFXUzpFcG9jaFRpbWUiOjE2NzU4MTE5MzZ9fX1dfQ__&Signature=sEeQHJ544gy0TlN9Y0ND3rhrKShCMypt2tCDFBvPMh5E97eRZV2RC1YEiAVq85N1cVBqFm7kRonTFEOTKU1N-oHHb1izwdwgWoPjPHcJmWsTDoseVpwafQrS0Waud5LpumhhzWnXVVPgLmBpklzSii36QNcXzq4%7E%7EkcxYhzD3f3cJvIzvabFNaRhddHlUYUd9rVzfEhgJmixGPkHjONnSQQpi-LK2wFVT4BDG5m4Q8-SCpQySC5QaV-pMk5L8XX4R4mRTLX9FtCT5XtBKA7pVT44cq6Gl2eZqOB3Wn5Bs-JOHw-QVzPMyyWFwPnIblPZ4u2DKGyz8Tuekyuk3Yp2AA__&Key-Pair-Id=KVTP0A1DKRTAX [following]\n",
            "--2023-02-04 23:18:56--  https://cdn-lfs.huggingface.co/repos/f5/12/f51294acf565f8e7f2b231a61a327e6a79fce680615e3bbbc4850f166e928650/b157fe019ddda848f0195240f636ff2dcb63cbe823c84eed77c129e196105fd1?response-content-disposition=attachment%3B+filename*%3DUTF-8%27%27bangla_word2vec_gen4.zip%3B+filename%3D%22bangla_word2vec_gen4.zip%22%3B&Expires=1675811936&Policy=eyJTdGF0ZW1lbnQiOlt7IlJlc291cmNlIjoiaHR0cHM6Ly9jZG4tbGZzLmh1Z2dpbmdmYWNlLmNvL3JlcG9zL2Y1LzEyL2Y1MTI5NGFjZjU2NWY4ZTdmMmIyMzFhNjFhMzI3ZTZhNzlmY2U2ODA2MTVlM2JiYmM0ODUwZjE2NmU5Mjg2NTAvYjE1N2ZlMDE5ZGRkYTg0OGYwMTk1MjQwZjYzNmZmMmRjYjYzY2JlODIzYzg0ZWVkNzdjMTI5ZTE5NjEwNWZkMT9yZXNwb25zZS1jb250ZW50LWRpc3Bvc2l0aW9uPSoiLCJDb25kaXRpb24iOnsiRGF0ZUxlc3NUaGFuIjp7IkFXUzpFcG9jaFRpbWUiOjE2NzU4MTE5MzZ9fX1dfQ__&Signature=sEeQHJ544gy0TlN9Y0ND3rhrKShCMypt2tCDFBvPMh5E97eRZV2RC1YEiAVq85N1cVBqFm7kRonTFEOTKU1N-oHHb1izwdwgWoPjPHcJmWsTDoseVpwafQrS0Waud5LpumhhzWnXVVPgLmBpklzSii36QNcXzq4%7E%7EkcxYhzD3f3cJvIzvabFNaRhddHlUYUd9rVzfEhgJmixGPkHjONnSQQpi-LK2wFVT4BDG5m4Q8-SCpQySC5QaV-pMk5L8XX4R4mRTLX9FtCT5XtBKA7pVT44cq6Gl2eZqOB3Wn5Bs-JOHw-QVzPMyyWFwPnIblPZ4u2DKGyz8Tuekyuk3Yp2AA__&Key-Pair-Id=KVTP0A1DKRTAX\n",
            "Resolving cdn-lfs.huggingface.co (cdn-lfs.huggingface.co)... 54.192.150.19, 54.192.150.21, 54.192.150.69, ...\n",
            "Connecting to cdn-lfs.huggingface.co (cdn-lfs.huggingface.co)|54.192.150.19|:443... connected.\n",
            "HTTP request sent, awaiting response... 200 OK\n",
            "Length: 199591017 (190M) [application/zip]\n",
            "Saving to: ‘bangla_word2vec_gen4.zip’\n",
            "\n",
            "bangla_word2vec_gen 100%[===================>] 190.34M  18.7MB/s    in 12s     \n",
            "\n",
            "2023-02-04 23:19:09 (16.1 MB/s) - ‘bangla_word2vec_gen4.zip’ saved [199591017/199591017]\n",
            "\n",
            "Archive:  bangla_word2vec_gen4.zip\n",
            "   creating: bangla_word2vec/\n",
            "  inflating: bangla_word2vec/README.md  \n",
            "  inflating: bangla_word2vec/bnwiki_word2vec.model  \n",
            "  inflating: bangla_word2vec/bnwiki_word2vec.model.syn1neg.npy  \n",
            "  inflating: bangla_word2vec/bnwiki_word2vec.model.wv.vectors.npy  \n",
            "  inflating: bangla_word2vec/bnwiki_word2vec.vector  \n",
            "   creating: bangla_word2vec/evaluations/\n",
            "  inflating: bangla_word2vec/evaluations/evaluation.json  \n"
          ]
        }
      ]
    },
    {
      "cell_type": "code",
      "metadata": {
        "id": "4X8Rb7wwU-dJ",
        "outputId": "47d1a89e-cbb5-40fe-e073-8a9c6dcb1eb5",
        "colab": {
          "base_uri": "https://localhost:8080/"
        }
      },
      "source": [
        "!wget https://huggingface.co/sagorsarker/bangla-fasttext/resolve/main/bengali_fasttext_wiki.zip\n",
        "!unzip bengali_fasttext_wiki.zip\n",
        "!rm -rf bengali_fasttext_wiki.zip"
      ],
      "execution_count": 5,
      "outputs": [
        {
          "output_type": "stream",
          "name": "stdout",
          "text": [
            "--2023-02-04 23:19:12--  https://huggingface.co/sagorsarker/bangla-fasttext/resolve/main/bengali_fasttext_wiki.zip\n",
            "Resolving huggingface.co (huggingface.co)... 3.231.67.228, 54.235.118.239, 2600:1f18:147f:e800:671:b733:ecf3:a585, ...\n",
            "Connecting to huggingface.co (huggingface.co)|3.231.67.228|:443... connected.\n",
            "HTTP request sent, awaiting response... 302 Found\n",
            "Location: https://cdn-lfs.huggingface.co/repos/81/f7/81f7ef7be12e7d0f1469419427cd1cbb5fa60760f6acbef188c156d566bc9bd1/d55d28394e48d08960b1f6e9b3cc1f614293e0c3e1c2f3e8d4667dc5b172d228?response-content-disposition=attachment%3B+filename*%3DUTF-8%27%27bengali_fasttext_wiki.zip%3B+filename%3D%22bengali_fasttext_wiki.zip%22%3B&Expires=1675811766&Policy=eyJTdGF0ZW1lbnQiOlt7IlJlc291cmNlIjoiaHR0cHM6Ly9jZG4tbGZzLmh1Z2dpbmdmYWNlLmNvL3JlcG9zLzgxL2Y3LzgxZjdlZjdiZTEyZTdkMGYxNDY5NDE5NDI3Y2QxY2JiNWZhNjA3NjBmNmFjYmVmMTg4YzE1NmQ1NjZiYzliZDEvZDU1ZDI4Mzk0ZTQ4ZDA4OTYwYjFmNmU5YjNjYzFmNjE0MjkzZTBjM2UxYzJmM2U4ZDQ2NjdkYzViMTcyZDIyOD9yZXNwb25zZS1jb250ZW50LWRpc3Bvc2l0aW9uPSoiLCJDb25kaXRpb24iOnsiRGF0ZUxlc3NUaGFuIjp7IkFXUzpFcG9jaFRpbWUiOjE2NzU4MTE3NjZ9fX1dfQ__&Signature=lp2Y3Oh342mU9TAFFBys0DRxCJFwdq%7EPux3TVXg6uT%7EoTSnMWG4s4Vv%7EHhq%7EJsLW1POmTxNT2LkI2Mb5EQW-zzhQW5hjtARwG%7EsYltE2UPyrmafiWNRA84GHiBzcSWk08StR8aGzXZ9qcnDJGQAYCf951bvGSRoz-66-gfxeBY98i6%7Eic6EASf4tz%7EWWj1n%7EGgFqkfl9NOvH1rBGrYm4U7lv34mEI5erXwrs7tCo2fVPCHMTrJI07VgQVEv55xioY9XPIElQqoqmmZwwAkLpDP4SbakftZbi9pHNTjpYGU4ohSmh3PQ8kJ1fmrC32aUhB9%7EHBorUUjn0SbmiiCTBSw__&Key-Pair-Id=KVTP0A1DKRTAX [following]\n",
            "--2023-02-04 23:19:13--  https://cdn-lfs.huggingface.co/repos/81/f7/81f7ef7be12e7d0f1469419427cd1cbb5fa60760f6acbef188c156d566bc9bd1/d55d28394e48d08960b1f6e9b3cc1f614293e0c3e1c2f3e8d4667dc5b172d228?response-content-disposition=attachment%3B+filename*%3DUTF-8%27%27bengali_fasttext_wiki.zip%3B+filename%3D%22bengali_fasttext_wiki.zip%22%3B&Expires=1675811766&Policy=eyJTdGF0ZW1lbnQiOlt7IlJlc291cmNlIjoiaHR0cHM6Ly9jZG4tbGZzLmh1Z2dpbmdmYWNlLmNvL3JlcG9zLzgxL2Y3LzgxZjdlZjdiZTEyZTdkMGYxNDY5NDE5NDI3Y2QxY2JiNWZhNjA3NjBmNmFjYmVmMTg4YzE1NmQ1NjZiYzliZDEvZDU1ZDI4Mzk0ZTQ4ZDA4OTYwYjFmNmU5YjNjYzFmNjE0MjkzZTBjM2UxYzJmM2U4ZDQ2NjdkYzViMTcyZDIyOD9yZXNwb25zZS1jb250ZW50LWRpc3Bvc2l0aW9uPSoiLCJDb25kaXRpb24iOnsiRGF0ZUxlc3NUaGFuIjp7IkFXUzpFcG9jaFRpbWUiOjE2NzU4MTE3NjZ9fX1dfQ__&Signature=lp2Y3Oh342mU9TAFFBys0DRxCJFwdq%7EPux3TVXg6uT%7EoTSnMWG4s4Vv%7EHhq%7EJsLW1POmTxNT2LkI2Mb5EQW-zzhQW5hjtARwG%7EsYltE2UPyrmafiWNRA84GHiBzcSWk08StR8aGzXZ9qcnDJGQAYCf951bvGSRoz-66-gfxeBY98i6%7Eic6EASf4tz%7EWWj1n%7EGgFqkfl9NOvH1rBGrYm4U7lv34mEI5erXwrs7tCo2fVPCHMTrJI07VgQVEv55xioY9XPIElQqoqmmZwwAkLpDP4SbakftZbi9pHNTjpYGU4ohSmh3PQ8kJ1fmrC32aUhB9%7EHBorUUjn0SbmiiCTBSw__&Key-Pair-Id=KVTP0A1DKRTAX\n",
            "Resolving cdn-lfs.huggingface.co (cdn-lfs.huggingface.co)... 54.192.150.69, 54.192.150.21, 54.192.150.84, ...\n",
            "Connecting to cdn-lfs.huggingface.co (cdn-lfs.huggingface.co)|54.192.150.69|:443... connected.\n",
            "HTTP request sent, awaiting response... 200 OK\n",
            "Length: 1632024418 (1.5G) [application/zip]\n",
            "Saving to: ‘bengali_fasttext_wiki.zip’\n",
            "\n",
            "bengali_fasttext_wi 100%[===================>]   1.52G  18.0MB/s    in 87s     \n",
            "\n",
            "2023-02-04 23:20:41 (17.8 MB/s) - ‘bengali_fasttext_wiki.zip’ saved [1632024418/1632024418]\n",
            "\n",
            "Archive:  bengali_fasttext_wiki.zip\n",
            "  inflating: bengali_fasttext_wiki.bin  \n"
          ]
        }
      ]
    },
    {
      "cell_type": "code",
      "source": [
        "!wget https://huggingface.co/sagorsarker/news_article_doc2vec/resolve/main/news_article_doc2vec.zip\n",
        "!unzip news_article_doc2vec.zip\n",
        "!rm -rf news_article_doc2vec.zip"
      ],
      "metadata": {
        "id": "dwRtXkBBy9s8",
        "outputId": "4004c84a-d526-4cc5-eb92-8155a56df90e",
        "colab": {
          "base_uri": "https://localhost:8080/"
        }
      },
      "execution_count": 6,
      "outputs": [
        {
          "output_type": "stream",
          "name": "stdout",
          "text": [
            "--2023-02-04 23:20:59--  https://huggingface.co/sagorsarker/news_article_doc2vec/resolve/main/news_article_doc2vec.zip\n",
            "Resolving huggingface.co (huggingface.co)... 3.231.67.228, 54.235.118.239, 2600:1f18:147f:e850:e203:c458:10cd:fc3c, ...\n",
            "Connecting to huggingface.co (huggingface.co)|3.231.67.228|:443... connected.\n",
            "HTTP request sent, awaiting response... 302 Found\n",
            "Location: https://cdn-lfs.huggingface.co/repos/4b/3e/4b3eda8caab369146ecb7cd40c87f73b09a0e5466d8cc1dce1a4c3a4303ceaef/873eeffe0d686d7c97cbbfcc62a46714b07e88fdce64e887a4828590c2837957?response-content-disposition=attachment%3B+filename*%3DUTF-8%27%27news_article_doc2vec.zip%3B+filename%3D%22news_article_doc2vec.zip%22%3B&Expires=1675812060&Policy=eyJTdGF0ZW1lbnQiOlt7IlJlc291cmNlIjoiaHR0cHM6Ly9jZG4tbGZzLmh1Z2dpbmdmYWNlLmNvL3JlcG9zLzRiLzNlLzRiM2VkYThjYWFiMzY5MTQ2ZWNiN2NkNDBjODdmNzNiMDlhMGU1NDY2ZDhjYzFkY2UxYTRjM2E0MzAzY2VhZWYvODczZWVmZmUwZDY4NmQ3Yzk3Y2JiZmNjNjJhNDY3MTRiMDdlODhmZGNlNjRlODg3YTQ4Mjg1OTBjMjgzNzk1Nz9yZXNwb25zZS1jb250ZW50LWRpc3Bvc2l0aW9uPSoiLCJDb25kaXRpb24iOnsiRGF0ZUxlc3NUaGFuIjp7IkFXUzpFcG9jaFRpbWUiOjE2NzU4MTIwNjB9fX1dfQ__&Signature=oaTGJuEwAa9Ou4OYfnx1reIjCLf9yIIOW29750au7bntzFicUvXojIr5cItWOQ9ER50xZW5-u3tHt8w05zJmro6eFuI01w2d%7EQbsjklEFiv7%7EcC2LqXnzhLd1FKB%7Ef%7EsYPEVWKgu%7Ed-LKOqYZI49Rw4SniLnhmXLvxTBDPiti4JLEKQiqxKRweLAUF2VQMo2Xg2pCFn2sIiy3KfaWOuZaESJkGJB6fCyy%7E712gjvdoc5bVBRSKZ%7EwVwVpvKwYMAyE2Oy2ZMkRFHAt82dAq-AjQOT9K%7Efr08u9w3P-g2prRT9fcfXGAwokxKilRtuQyxu1REPt%7E9MMlyWcgwcVax%7ETw__&Key-Pair-Id=KVTP0A1DKRTAX [following]\n",
            "--2023-02-04 23:21:00--  https://cdn-lfs.huggingface.co/repos/4b/3e/4b3eda8caab369146ecb7cd40c87f73b09a0e5466d8cc1dce1a4c3a4303ceaef/873eeffe0d686d7c97cbbfcc62a46714b07e88fdce64e887a4828590c2837957?response-content-disposition=attachment%3B+filename*%3DUTF-8%27%27news_article_doc2vec.zip%3B+filename%3D%22news_article_doc2vec.zip%22%3B&Expires=1675812060&Policy=eyJTdGF0ZW1lbnQiOlt7IlJlc291cmNlIjoiaHR0cHM6Ly9jZG4tbGZzLmh1Z2dpbmdmYWNlLmNvL3JlcG9zLzRiLzNlLzRiM2VkYThjYWFiMzY5MTQ2ZWNiN2NkNDBjODdmNzNiMDlhMGU1NDY2ZDhjYzFkY2UxYTRjM2E0MzAzY2VhZWYvODczZWVmZmUwZDY4NmQ3Yzk3Y2JiZmNjNjJhNDY3MTRiMDdlODhmZGNlNjRlODg3YTQ4Mjg1OTBjMjgzNzk1Nz9yZXNwb25zZS1jb250ZW50LWRpc3Bvc2l0aW9uPSoiLCJDb25kaXRpb24iOnsiRGF0ZUxlc3NUaGFuIjp7IkFXUzpFcG9jaFRpbWUiOjE2NzU4MTIwNjB9fX1dfQ__&Signature=oaTGJuEwAa9Ou4OYfnx1reIjCLf9yIIOW29750au7bntzFicUvXojIr5cItWOQ9ER50xZW5-u3tHt8w05zJmro6eFuI01w2d%7EQbsjklEFiv7%7EcC2LqXnzhLd1FKB%7Ef%7EsYPEVWKgu%7Ed-LKOqYZI49Rw4SniLnhmXLvxTBDPiti4JLEKQiqxKRweLAUF2VQMo2Xg2pCFn2sIiy3KfaWOuZaESJkGJB6fCyy%7E712gjvdoc5bVBRSKZ%7EwVwVpvKwYMAyE2Oy2ZMkRFHAt82dAq-AjQOT9K%7Efr08u9w3P-g2prRT9fcfXGAwokxKilRtuQyxu1REPt%7E9MMlyWcgwcVax%7ETw__&Key-Pair-Id=KVTP0A1DKRTAX\n",
            "Resolving cdn-lfs.huggingface.co (cdn-lfs.huggingface.co)... 54.192.150.19, 54.192.150.84, 54.192.150.69, ...\n",
            "Connecting to cdn-lfs.huggingface.co (cdn-lfs.huggingface.co)|54.192.150.19|:443... connected.\n",
            "HTTP request sent, awaiting response... 200 OK\n",
            "Length: 388148054 (370M) [application/zip]\n",
            "Saving to: ‘news_article_doc2vec.zip’\n",
            "\n",
            "news_article_doc2ve 100%[===================>] 370.17M  18.3MB/s    in 22s     \n",
            "\n",
            "2023-02-04 23:21:23 (16.8 MB/s) - ‘news_article_doc2vec.zip’ saved [388148054/388148054]\n",
            "\n",
            "Archive:  news_article_doc2vec.zip\n",
            "   creating: news_article_doc2vec/\n",
            "  inflating: news_article_doc2vec/bangla_news_article_doc2vec.model  \n",
            "  inflating: news_article_doc2vec/bangla_news_article_doc2vec.model.dv.vectors.npy  \n",
            "  inflating: news_article_doc2vec/bangla_news_article_doc2vec.model.syn1neg.npy  \n",
            "  inflating: news_article_doc2vec/bangla_news_article_doc2vec.model.wv.vectors.npy  \n"
          ]
        }
      ]
    },
    {
      "cell_type": "code",
      "metadata": {
        "id": "L-Csx3qMV6bz",
        "outputId": "87f86ae0-a1b5-41f6-ebed-5b8a1eba9c9f",
        "colab": {
          "base_uri": "https://localhost:8080/"
        }
      },
      "source": [
        "%cd .."
      ],
      "execution_count": 7,
      "outputs": [
        {
          "output_type": "stream",
          "name": "stdout",
          "text": [
            "/content\n"
          ]
        }
      ]
    },
    {
      "cell_type": "markdown",
      "metadata": {
        "id": "89_dmCXJWRWc"
      },
      "source": [
        "## Tokenization\n",
        "\n"
      ]
    },
    {
      "cell_type": "markdown",
      "metadata": {
        "id": "VjI8S58uXL3K"
      },
      "source": [
        "### Sentencepiece Tokenizer"
      ]
    },
    {
      "cell_type": "code",
      "metadata": {
        "id": "yTnY9_gWWP7z",
        "outputId": "fb17795f-0246-4bd2-b0f4-2815e89aae99",
        "colab": {
          "base_uri": "https://localhost:8080/"
        }
      },
      "source": [
        "from bnlp import SentencepieceTokenizer\n",
        "\n",
        "bsp = SentencepieceTokenizer()\n",
        "model_path = \"./models/bn_spm.model\"\n",
        "#input_text = \"আমি ভাত খাই। সে বাজারে যায়।\"\n",
        "input_text = \"এমন কিছু কী কয়েক বছর আগেও কেউ কল্পনা করতে পেরেছিল? সম্ভবত না।\"\n",
        "tokens = bsp.tokenize(model_path, input_text)\n",
        "print(tokens)\n",
        "text2id = bsp.text2id(model_path, input_text)\n",
        "print(text2id)\n",
        "id2text = bsp.id2text(model_path, text2id)\n",
        "print(id2text)"
      ],
      "execution_count": 14,
      "outputs": [
        {
          "output_type": "stream",
          "name": "stdout",
          "text": [
            "['▁এমন', '▁কিছু', '▁কী', '▁কয়েক', '▁বছর', '▁আগেও', '▁কেউ', '▁কল্পনা', '▁করতে', '▁পেরেছিল', '?', '▁সম্ভবত', '▁না', '।']\n",
            "[392, 77, 2353, 755, 59, 11959, 893, 4175, 58, 14636, 2284, 1316, 47, 3]\n",
            "এমন কিছু কী কয়েক বছর আগেও কেউ কল্পনা করতে পেরেছিল? সম্ভবত না।\n"
          ]
        }
      ]
    },
    {
      "cell_type": "markdown",
      "metadata": {
        "id": "DhhO65MvXC2C"
      },
      "source": [
        "### Basic Tokenizer"
      ]
    },
    {
      "cell_type": "code",
      "metadata": {
        "id": "NvX910bCW7t6",
        "outputId": "2822c927-587e-4d12-f7a2-a0d0c5864aa5",
        "colab": {
          "base_uri": "https://localhost:8080/"
        }
      },
      "source": [
        "from bnlp import BasicTokenizer\n",
        "basic_tokenizer = BasicTokenizer()\n",
        "raw_text = \"নিঃসন্দেহে, বিশেষজ্ঞরা বোঝাতে চাইছেন, এসব বেলুনে গুপ্তচর ক্যামেরা ও রাডার সেন্সরের মতো আধুনিক প্রযুক্তি যুক্ত করা সম্ভব।\"\n",
        "tokens = basic_tokenizer.tokenize(raw_text)\n",
        "print(tokens)\n"
      ],
      "execution_count": 11,
      "outputs": [
        {
          "output_type": "stream",
          "name": "stdout",
          "text": [
            "['নিঃসন্দেহে', ',', 'বিশেষজ্ঞরা', 'বোঝাতে', 'চাইছেন', ',', 'এসব', 'বেলুনে', 'গুপ্তচর', 'ক্যামেরা', 'ও', 'রাডার', 'সেন্সরের', 'মতো', 'আধুনিক', 'প্রযুক্তি', 'যুক্ত', 'করা', 'সম্ভব', '।']\n"
          ]
        }
      ]
    },
    {
      "cell_type": "markdown",
      "metadata": {
        "id": "pTOHycMkXNoC"
      },
      "source": [
        "### NLTK Tokenizer"
      ]
    },
    {
      "cell_type": "code",
      "metadata": {
        "id": "0DT-H9W0XFGC",
        "outputId": "3a85cc43-afdc-4fe9-f954-878d11b8bb5a",
        "colab": {
          "base_uri": "https://localhost:8080/"
        }
      },
      "source": [
        "from bnlp import NLTKTokenizer\n",
        "\n",
        "bnltk = NLTKTokenizer()\n",
        "#text = \"আমি ভাত খাই। সে বাজারে যায়। তিনি কি সত্যিই ভালো মানুষ?\"\n",
        "text = \"বল পায়ে মেসি রিয়ালের ডি–বক্সে ছুটছেন। আর রামোস ছুটছেন মেসিকে থামাতে। এই দৃশ্যগুলোই হয়তো এখনো ফুটবলপ্রেমীদের চোখে ভাসে! \"\n",
        "\n",
        "word_tokens = bnltk.word_tokenize(text)\n",
        "sentence_tokens = bnltk.sentence_tokenize(text)\n",
        "print(word_tokens)\n",
        "print(sentence_tokens)"
      ],
      "execution_count": 15,
      "outputs": [
        {
          "output_type": "stream",
          "name": "stdout",
          "text": [
            "['বল', 'পায়ে', 'মেসি', 'রিয়ালের', 'ডি–বক্সে', 'ছুটছেন', '।', 'আর', 'রামোস', 'ছুটছেন', 'মেসিকে', 'থামাতে', '।', 'এই', 'দৃশ্যগুলোই', 'হয়তো', 'এখনো', 'ফুটবলপ্রেমীদের', 'চোখে', 'ভাসে', '!']\n",
            "['বল পায়ে মেসি রিয়ালের ডি–বক্সে ছুটছেন।', 'আর রামোস ছুটছেন মেসিকে থামাতে।', 'এই দৃশ্যগুলোই হয়তো এখনো ফুটবলপ্রেমীদের চোখে ভাসে!']\n"
          ]
        }
      ]
    },
    {
      "cell_type": "markdown",
      "metadata": {
        "id": "puSrp9bBXklx"
      },
      "source": [
        "## Word Embedding"
      ]
    },
    {
      "cell_type": "markdown",
      "metadata": {
        "id": "k4JTRdBIXmmV"
      },
      "source": [
        "### Bengali Word2Vec"
      ]
    },
    {
      "cell_type": "code",
      "metadata": {
        "id": "aTPKDulmXT5B",
        "outputId": "167ab24f-64d7-4896-8828-05cb0e2f5f1b",
        "colab": {
          "base_uri": "https://localhost:8080/"
        }
      },
      "source": [
        "from bnlp import BengaliWord2Vec\n",
        "\n",
        "bwv = BengaliWord2Vec()\n",
        "model_path = \"models/bangla_word2vec/bnwiki_word2vec.model\"\n",
        "#word = 'গ্রাম'\n",
        "#word = 'পেয়েছেন'  #আক্ষেপ শ্রমিক শমিক  করিম  করবেন জামিল ম্যাক  কিরুকাবু  সংবাদ  ।  ’  $  # @  a  deepto  facebook  sh SH\n",
        "word = 's'\n",
        "vector = bwv.generate_word_vector(model_path, word)\n",
        "print(vector.shape)\n",
        "print(vector)"
      ],
      "execution_count": 73,
      "outputs": [
        {
          "output_type": "stream",
          "name": "stdout",
          "text": [
            "(100,)\n",
            "[ 0.9412405  -1.4225962   0.98516834  0.6269561  -2.8004184  -0.48323953\n",
            " -0.5097106   1.1293987  -1.2428294   0.02862646  2.0177612   0.6755844\n",
            "  1.0709083   0.90397197 -0.69077134 -1.6311674  -1.7680497  -0.98382324\n",
            "  0.9813106   0.32556558  0.94397396 -1.2262623   1.5238608   0.5177354\n",
            "  1.5482862   0.339311    0.49436897 -0.7845776   0.69236386  0.08187889\n",
            "  0.5244888   1.097646    1.107669   -1.2537073   1.331918    1.9831206\n",
            " -0.72246194  0.10880385  0.14873299 -2.9294884   0.75369847  0.02470194\n",
            " -0.49369463 -2.1685116  -0.8550549  -1.1032283  -2.8877163   0.5979286\n",
            " -0.3726742  -3.3292413  -2.6071427  -2.414578    1.4506024   1.344401\n",
            " -1.2492272   2.3570046  -2.6493583  -3.168522    0.6101441  -0.9041922\n",
            "  1.4782674  -1.3710214  -0.21429753  0.9136147   0.3883642   2.4263756\n",
            " -1.0644195  -0.21424577 -1.143658    0.52967733 -1.2156435   0.08049106\n",
            "  1.245275    0.8816519   1.146871   -2.3361647   4.1867795  -0.6406148\n",
            "  0.42971545 -3.6975296   0.49835333  2.1065536  -1.436831    0.873387\n",
            "  0.6860658  -1.4811931   0.33255768  1.4505455   0.7471323  -0.10559265\n",
            "  1.9114144  -1.2797378  -2.280089   -1.4392636   3.4019077   0.5796944\n",
            "  2.4601307   0.12747054  0.6103999   0.5042069 ]\n"
          ]
        }
      ]
    },
    {
      "cell_type": "code",
      "metadata": {
        "id": "TXN7oFCHYRdB",
        "outputId": "f7939ba3-74fc-4550-cd95-4d165123a525",
        "colab": {
          "base_uri": "https://localhost:8080/"
        }
      },
      "source": [
        "from bnlp import BengaliWord2Vec\n",
        "\n",
        "bwv = BengaliWord2Vec()\n",
        "model_path = \"models/bangla_word2vec/bnwiki_word2vec.model\"\n",
        "#word = 'গ্রাম'\n",
        "word = 'এডিসি'        #অপেক্ষা তদন্ত পরিচালক রামোস মেসি তৎকালীন রিজার্ভ গাফিলতির সার্ভার ডাক্তার  ইঞ্জিনিয়ার  ছুরিকাঘাতে  Apple Orange \n",
        "similar = bwv.most_similar(model_path, word)\n",
        "print(similar)"
      ],
      "execution_count": 97,
      "outputs": [
        {
          "output_type": "stream",
          "name": "stdout",
          "text": [
            "[('এসডিও', 0.7304136753082275), ('আজাহার', 0.729809582233429), ('বিগ্রেডিয়ার', 0.7221667170524597), ('এ্যাডভোকেট', 0.7079262733459473), ('আইজিপি', 0.6859682202339172), ('এএইচএম', 0.685571014881134), ('অডিটর', 0.684486448764801), ('উমরান', 0.6832051873207092), ('আলহাজ্জ', 0.6825311779975891), ('কাইউম', 0.6770675778388977)]\n"
          ]
        }
      ]
    },
    {
      "cell_type": "markdown",
      "metadata": {
        "id": "FpQsPWd5ZcwR"
      },
      "source": [
        "### Bengali Fasttext\n",
        "Install fasttext and restart runtime"
      ]
    },
    {
      "cell_type": "code",
      "metadata": {
        "id": "m-ElsxXXIJHh",
        "outputId": "3239b4bf-3dda-4f12-9901-512fe3a6e8d0",
        "colab": {
          "base_uri": "https://localhost:8080/"
        }
      },
      "source": [
        "!pip install fasttext"
      ],
      "execution_count": 16,
      "outputs": [
        {
          "output_type": "stream",
          "name": "stdout",
          "text": [
            "Looking in indexes: https://pypi.org/simple, https://us-python.pkg.dev/colab-wheels/public/simple/\n",
            "Collecting fasttext\n",
            "  Downloading fasttext-0.9.2.tar.gz (68 kB)\n",
            "\u001b[2K     \u001b[90m━━━━━━━━━━━━━━━━━━━━━━━━━━━━━━━━━━━━━━━━\u001b[0m \u001b[32m68.8/68.8 KB\u001b[0m \u001b[31m9.9 MB/s\u001b[0m eta \u001b[36m0:00:00\u001b[0m\n",
            "\u001b[?25h  Preparing metadata (setup.py) ... \u001b[?25l\u001b[?25hdone\n",
            "Collecting pybind11>=2.2\n",
            "  Using cached pybind11-2.10.3-py3-none-any.whl (222 kB)\n",
            "Requirement already satisfied: setuptools>=0.7.0 in /usr/local/lib/python3.8/dist-packages (from fasttext) (57.4.0)\n",
            "Requirement already satisfied: numpy in /usr/local/lib/python3.8/dist-packages (from fasttext) (1.21.6)\n",
            "Building wheels for collected packages: fasttext\n",
            "  Building wheel for fasttext (setup.py) ... \u001b[?25l\u001b[?25hdone\n",
            "  Created wheel for fasttext: filename=fasttext-0.9.2-cp38-cp38-linux_x86_64.whl size=4402340 sha256=05c3c291561fc1c52b625e2b51c176b8df59d52104c095209768bfc9303fb86c\n",
            "  Stored in directory: /root/.cache/pip/wheels/93/61/2a/c54711a91c418ba06ba195b1d78ff24fcaad8592f2a694ac94\n",
            "Successfully built fasttext\n",
            "Installing collected packages: pybind11, fasttext\n",
            "Successfully installed fasttext-0.9.2 pybind11-2.10.3\n"
          ]
        }
      ]
    },
    {
      "cell_type": "code",
      "metadata": {
        "id": "ICGKCZbRYuue",
        "outputId": "da7e100b-5d6b-488c-912a-22a315d0d651",
        "colab": {
          "base_uri": "https://localhost:8080/"
        }
      },
      "source": [
        "from bnlp.embedding.fasttext import BengaliFasttext\n",
        "\n",
        "bft = BengaliFasttext()\n",
        "word = \"গ্রাম\"\n",
        "model_path = \"models/bengali_fasttext_wiki.bin\"\n",
        "word_vector = bft.generate_word_vector(model_path, word)\n",
        "print(word_vector.shape)\n",
        "print(word_vector)"
      ],
      "execution_count": 17,
      "outputs": [
        {
          "output_type": "stream",
          "name": "stderr",
          "text": [
            "Warning : `load_model` does not return WordVectorModel or SupervisedModel any more, but a `FastText` object which is very similar.\n"
          ]
        },
        {
          "output_type": "stream",
          "name": "stdout",
          "text": [
            "(100,)\n",
            "[ 0.22730371 -0.40870905 -0.15613425  0.3804481  -0.05980289 -0.28930932\n",
            "  0.34626344  0.40258473 -0.90198106  0.4493182  -0.7325722   0.04727728\n",
            "  0.7795627   0.12068285  0.4670834   0.86121595  0.19153564  0.22014432\n",
            " -0.73635215  0.4743112   0.04276856  0.24542333  0.58513665 -0.49344873\n",
            "  1.2036309  -0.37963045 -0.52979314  0.42768055 -0.2915344   0.6429044\n",
            " -0.24786738 -0.34868303  0.5416647  -0.19672239 -0.5149317  -0.4899621\n",
            "  0.41403815  0.84034336  0.43055257  0.05744093  1.0355072   0.6728295\n",
            " -0.46993157 -0.8494765   0.33383992  0.3980397   0.06346162 -1.2393602\n",
            "  0.18511884 -0.10365435 -1.0729522   0.2701686  -0.48516303  0.7226823\n",
            "  0.4941565  -0.14498085 -0.1882495   0.01020508  1.3079278  -1.0012709\n",
            "  0.13207525  0.05821019 -0.5525221   0.13435237  1.1650416  -0.08389879\n",
            " -0.34301072  0.7302537  -0.1674301   0.2222631   0.56786853  0.06164984\n",
            "  0.4102374   0.1456264  -0.28646046 -0.21075231  0.6185989  -0.4345684\n",
            " -0.15338174  0.96878874  0.56596994 -0.18027176  0.08185344  0.563611\n",
            " -0.2742687  -0.07975687  0.70638406  0.34093252  0.7824108   0.8325492\n",
            " -1.0650607   0.8536281   0.5853429   0.12890655 -0.2779051  -0.6521946\n",
            " -0.3292202  -1.3018389  -0.9134306   0.86215734]\n"
          ]
        }
      ]
    },
    {
      "source": [
        "# Generate vector file from trained fasttext bin model\n",
        "from bnlp.embedding.fasttext import BengaliFasttext\n",
        "\n",
        "bft = BengaliFasttext()\n",
        "\n",
        "model_path = \"models/bengali_fasttext_wiki.bin\"\n",
        "out_vector_name = \"models/bengali_fasttext_wiki.txt\"\n",
        "bft.bin2vec(model_path, out_vector_name)"
      ],
      "cell_type": "code",
      "metadata": {
        "id": "xb6TNtZKx2xc"
      },
      "execution_count": null,
      "outputs": []
    },
    {
      "cell_type": "markdown",
      "source": [
        "### Bengali Glove Vector"
      ],
      "metadata": {
        "id": "2i1atjw90BTP"
      }
    },
    {
      "cell_type": "code",
      "source": [
        "# download glove vector\n",
        "!wget https://huggingface.co/sagorsarker/bangla-glove-vectors/resolve/main/bn_glove.100d.zip\n",
        "!unzip bn_glove.100d.zip -d models\n",
        "!rm -rf bn_glove.100d.zip"
      ],
      "metadata": {
        "id": "3HNng_350HuS"
      },
      "execution_count": null,
      "outputs": []
    },
    {
      "cell_type": "code",
      "source": [
        "from bnlp import BengaliGlove\n",
        "glove_path = \"models/bn_glove.100d.txt\"\n",
        "word = \"গ্রাম\"\n",
        "bng = BengaliGlove()\n",
        "res = bng.closest_word(glove_path, word)\n",
        "print(res)\n",
        "vec = bng.word2vec(glove_path, word)\n",
        "print(vec)"
      ],
      "metadata": {
        "id": "-lLxerIo0FVz"
      },
      "execution_count": null,
      "outputs": []
    },
    {
      "cell_type": "markdown",
      "source": [
        "## Document Embedding"
      ],
      "metadata": {
        "id": "CX2vU_Hw0lLD"
      }
    },
    {
      "cell_type": "markdown",
      "source": [
        "## Bengali Doc2Vec"
      ],
      "metadata": {
        "id": "-Ye_iWNp0sL8"
      }
    },
    {
      "cell_type": "markdown",
      "source": [
        "* Get document vector from input document using pre-trained doc2vec model\n",
        "\n",
        "NB: The model here trained on news article. So it work better in news article input"
      ],
      "metadata": {
        "id": "8rXw8ETp1cBU"
      }
    },
    {
      "cell_type": "code",
      "source": [
        "from bnlp import BengaliDoc2vec\n",
        "\n",
        "bn_doc2vec = BengaliDoc2vec()\n",
        "\n",
        "model_path = \"models/news_article_doc2vec/bangla_news_article_doc2vec.model\" # keep other .npy model files also in same folder\n",
        "document = \"রাষ্ট্রবিরোধী ও উসকানিমূলক বক্তব্য দেওয়ার অভিযোগে গাজীপুরের গাছা থানায় ডিজিটাল নিরাপত্তা আইনে করা মামলায় আলোচিত ‘শিশুবক্তা’ রফিকুল ইসলামের বিরুদ্ধে অভিযোগ গঠন করেছেন আদালত। ফলে মামলার আনুষ্ঠানিক বিচার শুরু হলো। আজ বুধবার (২৬ জানুয়ারি) ঢাকার সাইবার ট্রাইব্যুনালের বিচারক আসসামছ জগলুল হোসেন এ অভিযোগ গঠন করেন। এর আগে, রফিকুল ইসলামকে কারাগার থেকে আদালতে হাজির করা হয়। এরপর তাকে নির্দোষ দাবি করে তার আইনজীবী শোহেল মো. ফজলে রাব্বি অব্যাহতি চেয়ে আবেদন করেন। অন্যদিকে, রাষ্ট্রপক্ষ অভিযোগ গঠনের পক্ষে শুনানি করেন। উভয় পক্ষের শুনানি শেষে আদালত অব্যাহতির আবেদন খারিজ করে অভিযোগ গঠনের মাধ্যমে বিচার শুরুর আদেশ দেন। একইসঙ্গে সাক্ষ্যগ্রহণের জন্য আগামী ২২ ফেব্রুয়ারি দিন ধার্য করেন আদালত।\"\n",
        "\n",
        "vector = bn_doc2vec.get_document_vector(model_path, text)\n",
        "print(vector)"
      ],
      "metadata": {
        "id": "28HKKsL400Yx"
      },
      "execution_count": null,
      "outputs": []
    },
    {
      "cell_type": "markdown",
      "source": [
        "* Find document similarity between two documents\n",
        "\n",
        "The model used here trained on news article. So it will work better on news article inputs"
      ],
      "metadata": {
        "id": "XikStFMg1Q3B"
      }
    },
    {
      "cell_type": "code",
      "source": [
        "from bnlp import BengaliDoc2vec\n",
        "\n",
        "bn_doc2vec = BengaliDoc2vec()\n",
        "\n",
        "model_path = \"models/news_article_doc2vec/bangla_news_article_doc2vec.model\" # keep other .npy model files also in same folder\n",
        "article_1 = \"রাষ্ট্রবিরোধী ও উসকানিমূলক বক্তব্য দেওয়ার অভিযোগে গাজীপুরের গাছা থানায় ডিজিটাল নিরাপত্তা আইনে করা মামলায় আলোচিত ‘শিশুবক্তা’ রফিকুল ইসলামের বিরুদ্ধে অভিযোগ গঠন করেছেন আদালত। ফলে মামলার আনুষ্ঠানিক বিচার শুরু হলো। আজ বুধবার (২৬ জানুয়ারি) ঢাকার সাইবার ট্রাইব্যুনালের বিচারক আসসামছ জগলুল হোসেন এ অভিযোগ গঠন করেন। এর আগে, রফিকুল ইসলামকে কারাগার থেকে আদালতে হাজির করা হয়। এরপর তাকে নির্দোষ দাবি করে তার আইনজীবী শোহেল মো. ফজলে রাব্বি অব্যাহতি চেয়ে আবেদন করেন। অন্যদিকে, রাষ্ট্রপক্ষ অভিযোগ গঠনের পক্ষে শুনানি করেন। উভয় পক্ষের শুনানি শেষে আদালত অব্যাহতির আবেদন খারিজ করে অভিযোগ গঠনের মাধ্যমে বিচার শুরুর আদেশ দেন। একইসঙ্গে সাক্ষ্যগ্রহণের জন্য আগামী ২২ ফেব্রুয়ারি দিন ধার্য করেন আদালত।\"\n",
        "article_2 = \"রাষ্ট্রবিরোধী ও উসকানিমূলক বক্তব্য দেওয়ার অভিযোগে গাজীপুরের গাছা থানায় ডিজিটাল নিরাপত্তা আইনে করা মামলায় আলোচিত ‘শিশুবক্তা’ রফিকুল ইসলামের বিরুদ্ধে অভিযোগ গঠন করেছেন আদালত। ফলে মামলার আনুষ্ঠানিক বিচার শুরু হলো। আজ বুধবার (২৬ জানুয়ারি) ঢাকার সাইবার ট্রাইব্যুনালের বিচারক আসসামছ জগলুল হোসেন এ অভিযোগ গঠন করেন। এর আগে, রফিকুল ইসলামকে কারাগার থেকে আদালতে হাজির করা হয়। এরপর তাকে নির্দোষ দাবি করে তার আইনজীবী শোহেল মো. ফজলে রাব্বি অব্যাহতি চেয়ে আবেদন করেন। অন্যদিকে, রাষ্ট্রপক্ষ অভিযোগ গঠনের পক্ষে শুনানি করেন। উভয় পক্ষের শুনানি শেষে আদালত অব্যাহতির আবেদন খারিজ করে অভিযোগ গঠনের মাধ্যমে বিচার শুরুর আদেশ দেন। একইসঙ্গে সাক্ষ্যগ্রহণের জন্য আগামী ২২ ফেব্রুয়ারি দিন ধার্য করেন আদালত।\"\n",
        "\n",
        "similarity = bn_doc2vec.get_document_similarity(\n",
        "  model_path,\n",
        "  article_1,\n",
        "  article_2\n",
        ")\n",
        "print(similarity)"
      ],
      "metadata": {
        "id": "vEGDiFYi1I0P"
      },
      "execution_count": null,
      "outputs": []
    },
    {
      "cell_type": "markdown",
      "metadata": {
        "id": "8tEPivPeZhqF"
      },
      "source": [
        "## Bengali POS Tagging"
      ]
    },
    {
      "cell_type": "code",
      "metadata": {
        "id": "FCMr4ZkbZPZG"
      },
      "source": [
        "from bnlp import POS\n",
        "bn_pos = POS()\n",
        "model_path = \"models/bn_pos.pkl\"\n",
        "text = \"আমি ভাত খাই।\"\n",
        "res = bn_pos.tag(model_path, text)\n",
        "print(res)"
      ],
      "execution_count": null,
      "outputs": []
    },
    {
      "cell_type": "markdown",
      "metadata": {
        "id": "x4lzRvVaqtw7"
      },
      "source": [
        "## Bengali Name Entity Recognition"
      ]
    },
    {
      "cell_type": "code",
      "metadata": {
        "id": "Kr23_fZbZkul"
      },
      "source": [
        "from bnlp import NER\n",
        "bn_ner = NER()\n",
        "model_path = \"models/bn_ner.pkl\"\n",
        "text = \"সে ঢাকায় থাকে।\"\n",
        "result = bn_ner.tag(model_path, text)\n",
        "print(result)"
      ],
      "execution_count": null,
      "outputs": []
    },
    {
      "cell_type": "markdown",
      "metadata": {
        "id": "86HNdJIIJmoY"
      },
      "source": [
        "# Bengali Corpus Class"
      ]
    },
    {
      "cell_type": "markdown",
      "metadata": {
        "id": "Ub43jYHZJ291"
      },
      "source": [
        "## Stopwords and Punctuations"
      ]
    },
    {
      "cell_type": "code",
      "metadata": {
        "id": "GMfaIogmtPnk"
      },
      "source": [
        "from bnlp.corpus import stopwords, punctuations, letters, digits\n",
        "\n",
        "print(stopwords)\n",
        "print(punctuations)\n",
        "print(letters)\n",
        "print(digits)"
      ],
      "execution_count": null,
      "outputs": []
    },
    {
      "cell_type": "markdown",
      "metadata": {
        "id": "KWtWAE7SJ9CL"
      },
      "source": [
        "## Remove stopwords from text"
      ]
    },
    {
      "cell_type": "code",
      "metadata": {
        "id": "FFmusO3OJ0YG"
      },
      "source": [
        "from bnlp.corpus import stopwords\n",
        "from bnlp.corpus.util import remove_stopwords\n",
        "\n",
        "raw_text = 'আমি ভাত খাই।' \n",
        "result = remove_stopwords(raw_text, stopwords)\n",
        "print(result)\n",
        "# ['ভাত', 'খাই', '।']"
      ],
      "execution_count": null,
      "outputs": []
    },
    {
      "cell_type": "code",
      "metadata": {
        "id": "DKK0lDFoJ_c6"
      },
      "source": [],
      "execution_count": null,
      "outputs": []
    }
  ]
}